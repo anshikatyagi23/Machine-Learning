{
  "nbformat": 4,
  "nbformat_minor": 0,
  "metadata": {
    "colab": {
      "provenance": [],
      "authorship_tag": "ABX9TyMUddkIB9j9p4BRYgi7CCoP",
      "include_colab_link": true
    },
    "kernelspec": {
      "name": "python3",
      "display_name": "Python 3"
    },
    "language_info": {
      "name": "python"
    }
  },
  "cells": [
    {
      "cell_type": "markdown",
      "metadata": {
        "id": "view-in-github",
        "colab_type": "text"
      },
      "source": [
        "<a href=\"https://colab.research.google.com/github/anshikatyagi23/Machine-Learning/blob/main/Part2_Working_with_matrix_in_python.ipynb\" target=\"_parent\"><img src=\"https://colab.research.google.com/assets/colab-badge.svg\" alt=\"Open In Colab\"/></a>"
      ]
    },
    {
      "cell_type": "code",
      "execution_count": 1,
      "metadata": {
        "id": "EETIMWNogLGg"
      },
      "outputs": [],
      "source": [
        "import numpy as np"
      ]
    },
    {
      "cell_type": "markdown",
      "source": [
        "Creating a Matrix using numpy"
      ],
      "metadata": {
        "id": "RSExGMzmgRrV"
      }
    },
    {
      "cell_type": "code",
      "source": [
        "matrix_1 = np.array([[2,3],[6,7]])\n",
        "print(matrix_1)\n",
        ""
      ],
      "metadata": {
        "colab": {
          "base_uri": "https://localhost:8080/"
        },
        "id": "VY_l8IbRgRKv",
        "outputId": "915ee04f-ec3a-4229-bf66-12dee6f5e55f"
      },
      "execution_count": 2,
      "outputs": [
        {
          "output_type": "stream",
          "name": "stdout",
          "text": [
            "[[2 3]\n",
            " [6 7]]\n"
          ]
        }
      ]
    },
    {
      "cell_type": "code",
      "source": [
        "matrix_1.shape"
      ],
      "metadata": {
        "colab": {
          "base_uri": "https://localhost:8080/"
        },
        "id": "3LgaK1WvgU40",
        "outputId": "e4984c5f-923c-436d-98cb-a097f0eddb79"
      },
      "execution_count": 3,
      "outputs": [
        {
          "output_type": "execute_result",
          "data": {
            "text/plain": [
              "(2, 2)"
            ]
          },
          "metadata": {},
          "execution_count": 3
        }
      ]
    },
    {
      "cell_type": "code",
      "source": [
        "matrix_2 = np.array([[10,35,45],[50,64,80],[20,15,90]])\n",
        "print(matrix_2)"
      ],
      "metadata": {
        "colab": {
          "base_uri": "https://localhost:8080/"
        },
        "id": "2tgWAl3NgXyV",
        "outputId": "18111c0c-6e24-474b-f096-47cea5595eb2"
      },
      "execution_count": 4,
      "outputs": [
        {
          "output_type": "stream",
          "name": "stdout",
          "text": [
            "[[10 35 45]\n",
            " [50 64 80]\n",
            " [20 15 90]]\n"
          ]
        }
      ]
    },
    {
      "cell_type": "code",
      "source": [
        "\n",
        "matrix_2.shape"
      ],
      "metadata": {
        "colab": {
          "base_uri": "https://localhost:8080/"
        },
        "id": "zI4PzAbHgZyF",
        "outputId": "5e650abb-24f3-4c8f-b3e4-e9d2dbaa472a"
      },
      "execution_count": 5,
      "outputs": [
        {
          "output_type": "execute_result",
          "data": {
            "text/plain": [
              "(3, 3)"
            ]
          },
          "metadata": {},
          "execution_count": 5
        }
      ]
    },
    {
      "cell_type": "markdown",
      "source": [
        "Creating Matrices with Random Values"
      ],
      "metadata": {
        "id": "hO--rNneghYQ"
      }
    },
    {
      "cell_type": "code",
      "source": [
        "random_matrix = np.random.rand(3,3)\n",
        "print(random_matrix)\n",
        ""
      ],
      "metadata": {
        "colab": {
          "base_uri": "https://localhost:8080/"
        },
        "id": "V1Hw8R75gbl7",
        "outputId": "825f7908-bd90-4de3-f55b-f887a5653792"
      },
      "execution_count": 6,
      "outputs": [
        {
          "output_type": "stream",
          "name": "stdout",
          "text": [
            "[[0.35131958 0.91217577 0.11861792]\n",
            " [0.68198403 0.62115453 0.99210733]\n",
            " [0.06879697 0.53244954 0.00132309]]\n"
          ]
        }
      ]
    },
    {
      "cell_type": "code",
      "source": [
        "# creating matrix with random integers\n",
        "random_integer_matrix = np.random.randint(100, size=(4,5))\n",
        "print(random_integer_matrix)"
      ],
      "metadata": {
        "colab": {
          "base_uri": "https://localhost:8080/"
        },
        "id": "n4OZieLPgjuI",
        "outputId": "97493fc0-ab05-4643-eeeb-a253944a52b1"
      },
      "execution_count": 7,
      "outputs": [
        {
          "output_type": "stream",
          "name": "stdout",
          "text": [
            "[[11 47 95 86 89]\n",
            " [75 42 70 20  0]\n",
            " [78 32 64 76 64]\n",
            " [ 5 63 46 19 89]]\n"
          ]
        }
      ]
    },
    {
      "cell_type": "markdown",
      "source": [
        "Matrix with all the values as 1"
      ],
      "metadata": {
        "id": "0ZOUtwf3gnp8"
      }
    },
    {
      "cell_type": "code",
      "source": [
        "matrix_3 = np.ones((2,3))\n",
        "print(matrix_3)"
      ],
      "metadata": {
        "colab": {
          "base_uri": "https://localhost:8080/"
        },
        "id": "M6GdWfItglvS",
        "outputId": "724f6fce-4986-4444-b55d-29b6343e1c5d"
      },
      "execution_count": 8,
      "outputs": [
        {
          "output_type": "stream",
          "name": "stdout",
          "text": [
            "[[1. 1. 1.]\n",
            " [1. 1. 1.]]\n"
          ]
        }
      ]
    },
    {
      "cell_type": "code",
      "source": [
        "matrix_3 = np.ones((2,3), dtype=int)\n",
        "print(matrix_3)\n",
        ""
      ],
      "metadata": {
        "colab": {
          "base_uri": "https://localhost:8080/"
        },
        "id": "OxsuE8xKgqDA",
        "outputId": "308e8dbb-0a75-478c-8c49-6a498ed8043d"
      },
      "execution_count": 9,
      "outputs": [
        {
          "output_type": "stream",
          "name": "stdout",
          "text": [
            "[[1 1 1]\n",
            " [1 1 1]]\n"
          ]
        }
      ]
    },
    {
      "cell_type": "code",
      "source": [
        "matrix_3 = np.ones((10,10), dtype=int)\n",
        "print(matrix_3)"
      ],
      "metadata": {
        "colab": {
          "base_uri": "https://localhost:8080/"
        },
        "id": "_ELeg0c1gr3z",
        "outputId": "2c8239f9-0ec4-4191-8d20-b40a93dab030"
      },
      "execution_count": 10,
      "outputs": [
        {
          "output_type": "stream",
          "name": "stdout",
          "text": [
            "[[1 1 1 1 1 1 1 1 1 1]\n",
            " [1 1 1 1 1 1 1 1 1 1]\n",
            " [1 1 1 1 1 1 1 1 1 1]\n",
            " [1 1 1 1 1 1 1 1 1 1]\n",
            " [1 1 1 1 1 1 1 1 1 1]\n",
            " [1 1 1 1 1 1 1 1 1 1]\n",
            " [1 1 1 1 1 1 1 1 1 1]\n",
            " [1 1 1 1 1 1 1 1 1 1]\n",
            " [1 1 1 1 1 1 1 1 1 1]\n",
            " [1 1 1 1 1 1 1 1 1 1]]\n"
          ]
        }
      ]
    },
    {
      "cell_type": "markdown",
      "source": [
        "Null Matrix or Zero Matrix"
      ],
      "metadata": {
        "id": "eSauZlSigv9Q"
      }
    },
    {
      "cell_type": "code",
      "source": [
        "null_matrix = np.zeros((4,4))\n",
        "print(null_matrix)"
      ],
      "metadata": {
        "colab": {
          "base_uri": "https://localhost:8080/"
        },
        "id": "mFhOCb08gty6",
        "outputId": "0b4ea4be-1214-4ee2-8af9-ec30e5f41821"
      },
      "execution_count": 11,
      "outputs": [
        {
          "output_type": "stream",
          "name": "stdout",
          "text": [
            "[[0. 0. 0. 0.]\n",
            " [0. 0. 0. 0.]\n",
            " [0. 0. 0. 0.]\n",
            " [0. 0. 0. 0.]]\n"
          ]
        }
      ]
    },
    {
      "cell_type": "code",
      "source": [
        "null_matrix = np.zeros((7,7))\n",
        "print(null_matrix)"
      ],
      "metadata": {
        "colab": {
          "base_uri": "https://localhost:8080/"
        },
        "id": "IHxv54PFgyPP",
        "outputId": "5c6538bf-b71b-4a53-b945-fd39defc1731"
      },
      "execution_count": 12,
      "outputs": [
        {
          "output_type": "stream",
          "name": "stdout",
          "text": [
            "[[0. 0. 0. 0. 0. 0. 0.]\n",
            " [0. 0. 0. 0. 0. 0. 0.]\n",
            " [0. 0. 0. 0. 0. 0. 0.]\n",
            " [0. 0. 0. 0. 0. 0. 0.]\n",
            " [0. 0. 0. 0. 0. 0. 0.]\n",
            " [0. 0. 0. 0. 0. 0. 0.]\n",
            " [0. 0. 0. 0. 0. 0. 0.]]\n"
          ]
        }
      ]
    },
    {
      "cell_type": "markdown",
      "source": [
        "Identity Matrix"
      ],
      "metadata": {
        "id": "08v0G1QMg2HU"
      }
    },
    {
      "cell_type": "code",
      "source": [
        "identity_matrix = np.eye(3,3)\n",
        "print(identity_matrix)\n",
        ""
      ],
      "metadata": {
        "colab": {
          "base_uri": "https://localhost:8080/"
        },
        "id": "wS4Xoo-2gz5b",
        "outputId": "42d375c7-2379-4829-f952-33b51e24ba46"
      },
      "execution_count": 13,
      "outputs": [
        {
          "output_type": "stream",
          "name": "stdout",
          "text": [
            "[[1. 0. 0.]\n",
            " [0. 1. 0.]\n",
            " [0. 0. 1.]]\n"
          ]
        }
      ]
    },
    {
      "cell_type": "code",
      "source": [
        "identity_matrix = np.eye(5,5)\n",
        "print(identity_matrix)"
      ],
      "metadata": {
        "colab": {
          "base_uri": "https://localhost:8080/"
        },
        "id": "uj5dWq9ng4EI",
        "outputId": "5d5211f2-bf17-4f99-f69e-9dc2ac599220"
      },
      "execution_count": 14,
      "outputs": [
        {
          "output_type": "stream",
          "name": "stdout",
          "text": [
            "[[1. 0. 0. 0. 0.]\n",
            " [0. 1. 0. 0. 0.]\n",
            " [0. 0. 1. 0. 0.]\n",
            " [0. 0. 0. 1. 0.]\n",
            " [0. 0. 0. 0. 1.]]\n"
          ]
        }
      ]
    },
    {
      "cell_type": "markdown",
      "source": [
        "Transpose of a Matrix"
      ],
      "metadata": {
        "id": "_KujQ1w4g7tQ"
      }
    },
    {
      "cell_type": "code",
      "source": [
        "# matrix with random integer values\n",
        "a = np.random.randint(100, size=(4,5))\n",
        "print(a)\n",
        ""
      ],
      "metadata": {
        "colab": {
          "base_uri": "https://localhost:8080/"
        },
        "id": "gS3wOhIpg59k",
        "outputId": "c6732a78-5437-411b-be2f-c804d2c9a4ec"
      },
      "execution_count": 15,
      "outputs": [
        {
          "output_type": "stream",
          "name": "stdout",
          "text": [
            "[[51 82 80  1 94]\n",
            " [27 79 23 25 52]\n",
            " [53 89 32 60 41]\n",
            " [22 94  2 92 33]]\n"
          ]
        }
      ]
    },
    {
      "cell_type": "code",
      "source": [
        "transpose_of_a = np.transpose(a)\n",
        "print(transpose_of_a)\n",
        ""
      ],
      "metadata": {
        "colab": {
          "base_uri": "https://localhost:8080/"
        },
        "id": "NsbOOcRYg9y4",
        "outputId": "122f9791-7ff8-41c2-ebaf-29dd87448fa9"
      },
      "execution_count": 16,
      "outputs": [
        {
          "output_type": "stream",
          "name": "stdout",
          "text": [
            "[[51 27 53 22]\n",
            " [82 79 89 94]\n",
            " [80 23 32  2]\n",
            " [ 1 25 60 92]\n",
            " [94 52 41 33]]\n"
          ]
        }
      ]
    },
    {
      "cell_type": "code",
      "source": [],
      "metadata": {
        "id": "fKPenS_Mg_xi"
      },
      "execution_count": null,
      "outputs": []
    }
  ]
}