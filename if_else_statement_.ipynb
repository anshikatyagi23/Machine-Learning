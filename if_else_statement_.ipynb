{
  "nbformat": 4,
  "nbformat_minor": 0,
  "metadata": {
    "colab": {
      "provenance": [],
      "authorship_tag": "ABX9TyNyMlGdb2insosggkHZPeKc",
      "include_colab_link": true
    },
    "kernelspec": {
      "name": "python3",
      "display_name": "Python 3"
    },
    "language_info": {
      "name": "python"
    }
  },
  "cells": [
    {
      "cell_type": "markdown",
      "metadata": {
        "id": "view-in-github",
        "colab_type": "text"
      },
      "source": [
        "<a href=\"https://colab.research.google.com/github/anshikatyagi23/Machine-Learning/blob/main/if_else_statement_.ipynb\" target=\"_parent\"><img src=\"https://colab.research.google.com/assets/colab-badge.svg\" alt=\"Open In Colab\"/></a>"
      ]
    },
    {
      "cell_type": "markdown",
      "source": [
        "Simple if else statement"
      ],
      "metadata": {
        "id": "b0368FL8xgXt"
      }
    },
    {
      "cell_type": "code",
      "execution_count": null,
      "metadata": {
        "colab": {
          "base_uri": "https://localhost:8080/"
        },
        "id": "fB0vO83Bwfke",
        "outputId": "ed040b76-0450-47f0-ae3a-5337350e73cc"
      },
      "outputs": [
        {
          "output_type": "stream",
          "name": "stdout",
          "text": [
            "b is greater than a\n"
          ]
        }
      ],
      "source": [
        "a=30\n",
        "b=50\n",
        "if(a>b):\n",
        "  print(\"a is greater than b\")\n",
        "else:\n",
        "  print(\"b is greater than a\")"
      ]
    },
    {
      "cell_type": "code",
      "source": [
        "a=int(input('Enter the first number : '))\n",
        "b=int(input('Enter the second number : '))\n",
        "\n",
        "if(a>b):\n",
        "  print('a is greater number')\n",
        "else:\n",
        "    print('b is greater number')"
      ],
      "metadata": {
        "colab": {
          "base_uri": "https://localhost:8080/"
        },
        "id": "rMmiy5uFx1TN",
        "outputId": "d8a2aff4-6026-4f0b-bce5-abc982626958"
      },
      "execution_count": null,
      "outputs": [
        {
          "output_type": "stream",
          "name": "stdout",
          "text": [
            "Enter the first number : 2\n",
            "Enter the second number : 3\n",
            "b is greater number\n"
          ]
        }
      ]
    },
    {
      "cell_type": "markdown",
      "source": [
        "if elif else statement"
      ],
      "metadata": {
        "id": "rCjmrplpy0U2"
      }
    },
    {
      "cell_type": "code",
      "source": [
        "a=15\n",
        "b=25\n",
        "c=35\n",
        "if(b<a>c):\n",
        "  print('a is greatest')\n",
        "elif(a<b>c):\n",
        "  print('b is greatest')\n",
        "else:\n",
        "  print('c is greatest')"
      ],
      "metadata": {
        "colab": {
          "base_uri": "https://localhost:8080/"
        },
        "id": "7YCUOHFsy5wG",
        "outputId": "9b2e5de9-b28d-4df5-bffc-9863b2d17e80"
      },
      "execution_count": null,
      "outputs": [
        {
          "output_type": "stream",
          "name": "stdout",
          "text": [
            "c is greatest\n"
          ]
        }
      ]
    },
    {
      "cell_type": "markdown",
      "source": [
        "nested if condition\n"
      ],
      "metadata": {
        "id": "MaOnaonSzQgn"
      }
    },
    {
      "cell_type": "code",
      "source": [
        "a=20\n",
        "b=40\n",
        "c=60\n",
        "if(a>b):\n",
        "  if(a>c):\n",
        "    print('a is greatest')\n",
        "  else:\n",
        "    print('c is greatest')\n",
        "elif(b>c):\n",
        "  print('b is greatest')\n",
        "else:\n",
        "  print('c is greatest')\n"
      ],
      "metadata": {
        "colab": {
          "base_uri": "https://localhost:8080/"
        },
        "id": "D0EhE_jRzSo2",
        "outputId": "e7d8b8c8-2146-400e-cc4a-fd2b66fd06ea"
      },
      "execution_count": null,
      "outputs": [
        {
          "output_type": "stream",
          "name": "stdout",
          "text": [
            "c is greatest\n"
          ]
        }
      ]
    },
    {
      "cell_type": "markdown",
      "source": [],
      "metadata": {
        "id": "FGwRnAOAz5nD"
      }
    },
    {
      "cell_type": "markdown",
      "source": [],
      "metadata": {
        "id": "5qRNBG8-z2ln"
      }
    }
  ]
}