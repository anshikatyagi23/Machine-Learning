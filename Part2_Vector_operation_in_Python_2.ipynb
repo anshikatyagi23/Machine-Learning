{
  "nbformat": 4,
  "nbformat_minor": 0,
  "metadata": {
    "colab": {
      "provenance": [],
      "authorship_tag": "ABX9TyNr1pXUXNlrOZD5lXXmr5PL",
      "include_colab_link": true
    },
    "kernelspec": {
      "name": "python3",
      "display_name": "Python 3"
    },
    "language_info": {
      "name": "python"
    }
  },
  "cells": [
    {
      "cell_type": "markdown",
      "metadata": {
        "id": "view-in-github",
        "colab_type": "text"
      },
      "source": [
        "<a href=\"https://colab.research.google.com/github/anshikatyagi23/Machine-Learning/blob/main/Part2_Vector_operation_in_Python_2.ipynb\" target=\"_parent\"><img src=\"https://colab.research.google.com/assets/colab-badge.svg\" alt=\"Open In Colab\"/></a>"
      ]
    },
    {
      "cell_type": "code",
      "execution_count": 1,
      "metadata": {
        "id": "xcGmiKFCfREb"
      },
      "outputs": [],
      "source": [
        "\n",
        "import numpy as np"
      ]
    },
    {
      "cell_type": "markdown",
      "source": [
        "Dot product Of two Vectors"
      ],
      "metadata": {
        "id": "TRaGkBdWffTR"
      }
    },
    {
      "cell_type": "code",
      "source": [
        "\n",
        "a = np.array([2, 3])\n",
        "\n",
        "b = np.array([4, 4])\n",
        "\n",
        "a_dot_b = np.dot(a, b)"
      ],
      "metadata": {
        "id": "XN0njOCVfX3d"
      },
      "execution_count": 2,
      "outputs": []
    },
    {
      "cell_type": "code",
      "source": [
        "print(a_dot_b)\n",
        ""
      ],
      "metadata": {
        "colab": {
          "base_uri": "https://localhost:8080/"
        },
        "id": "uemC4RKFfjer",
        "outputId": "cdf9f562-37d5-4377-98af-0c7de7b9d5e3"
      },
      "execution_count": 3,
      "outputs": [
        {
          "output_type": "stream",
          "name": "stdout",
          "text": [
            "20\n"
          ]
        }
      ]
    },
    {
      "cell_type": "code",
      "source": [
        "c = np.array([40, 20, 35])\n",
        "\n",
        "d = np.array([53, 24, 68])\n",
        "\n",
        "c_dot_d = np.dot(c, d)"
      ],
      "metadata": {
        "id": "UZI9aNojflfz"
      },
      "execution_count": 4,
      "outputs": []
    },
    {
      "cell_type": "code",
      "source": [
        "print(c_dot_d)"
      ],
      "metadata": {
        "colab": {
          "base_uri": "https://localhost:8080/"
        },
        "id": "gK8FOp9jfnSW",
        "outputId": "de663225-a610-4fce-8bf2-ecb50369a8b3"
      },
      "execution_count": 5,
      "outputs": [
        {
          "output_type": "stream",
          "name": "stdout",
          "text": [
            "4980\n"
          ]
        }
      ]
    },
    {
      "cell_type": "markdown",
      "source": [
        "Cross Product of 2 vectors"
      ],
      "metadata": {
        "id": "_ltBAqR_fqjP"
      }
    },
    {
      "cell_type": "code",
      "source": [
        "a = np.array([2, 3])\n",
        "\n",
        "b = np.array([4, 4])\n",
        "\n",
        "a_cross_b = np.cross(a, b)"
      ],
      "metadata": {
        "colab": {
          "base_uri": "https://localhost:8080/"
        },
        "id": "5emTjT6jfpUB",
        "outputId": "437035c3-1dbb-400a-b92d-96cd82751783"
      },
      "execution_count": 6,
      "outputs": [
        {
          "output_type": "stream",
          "name": "stderr",
          "text": [
            "<ipython-input-6-9606bfcd8ee3>:5: DeprecationWarning: Arrays of 2-dimensional vectors are deprecated. Use arrays of 3-dimensional vectors instead. (deprecated in NumPy 2.0)\n",
            "  a_cross_b = np.cross(a, b)\n"
          ]
        }
      ]
    },
    {
      "cell_type": "code",
      "source": [
        "print(a_cross_b)"
      ],
      "metadata": {
        "colab": {
          "base_uri": "https://localhost:8080/"
        },
        "id": "tCmQdH9tfuwM",
        "outputId": "48eb94c2-61fb-4554-c2f5-0322c34fd6b2"
      },
      "execution_count": 7,
      "outputs": [
        {
          "output_type": "stream",
          "name": "stdout",
          "text": [
            "-4\n"
          ]
        }
      ]
    },
    {
      "cell_type": "code",
      "source": [
        "c = np.array([5, 10, 20])\n",
        "\n",
        "d = np.array([18, 32, 50])\n",
        "\n",
        "c_cross_d = np.cross(c, d)"
      ],
      "metadata": {
        "id": "_16rovUAfw_N"
      },
      "execution_count": 8,
      "outputs": []
    },
    {
      "cell_type": "code",
      "source": [
        "print(c_cross_d)"
      ],
      "metadata": {
        "colab": {
          "base_uri": "https://localhost:8080/"
        },
        "id": "abSkzzDOfy_u",
        "outputId": "6ba727b5-a576-479f-d1d9-41ceda434228"
      },
      "execution_count": 9,
      "outputs": [
        {
          "output_type": "stream",
          "name": "stdout",
          "text": [
            "[-140  110  -20]\n"
          ]
        }
      ]
    },
    {
      "cell_type": "markdown",
      "source": [
        "Projection of \"a\" vector on \"v\" vector\n",
        "\n"
      ],
      "metadata": {
        "id": "T_eNmZiQf3do"
      }
    },
    {
      "cell_type": "code",
      "source": [
        "\n",
        "a = np.array([2, 5])\n",
        "\n",
        "v = np.array([8, -6])\n",
        "\n",
        "# magnitude of \"v\" vector\n",
        "magnitude_of_v = np.sqrt(sum(v**2))\n",
        "\n",
        "proj_of_a_on_v = (np.dot(a,v)/magnitude_of_v**2)*v\n",
        "\n",
        "print('Projection of a vector on v vector = ', proj_of_a_on_v)"
      ],
      "metadata": {
        "colab": {
          "base_uri": "https://localhost:8080/"
        },
        "id": "B5ioNEQff1Tb",
        "outputId": "51086b12-73f5-4ec5-8d72-2ef25e28026a"
      },
      "execution_count": 10,
      "outputs": [
        {
          "output_type": "stream",
          "name": "stdout",
          "text": [
            "Projection of a vector on v vector =  [-1.12  0.84]\n"
          ]
        }
      ]
    },
    {
      "cell_type": "code",
      "source": [
        "\n",
        "a = np.array([23, 45, 62])\n",
        "\n",
        "v = np.array([45, 82, 67])\n",
        "\n",
        "# magnitude of \"v\" vector\n",
        "magnitude_of_v = np.sqrt(sum(v**2))\n",
        "\n",
        "proj_of_a_on_v = (np.dot(a,v)/magnitude_of_v**2)*v\n",
        "\n",
        "print('Projection of a vector on v vector = ', proj_of_a_on_v)\n",
        ""
      ],
      "metadata": {
        "colab": {
          "base_uri": "https://localhost:8080/"
        },
        "id": "rDpEVeQJf-OF",
        "outputId": "2c242454-44ae-4ace-d58b-0641d27e0330"
      },
      "execution_count": 11,
      "outputs": [
        {
          "output_type": "stream",
          "name": "stdout",
          "text": [
            "Projection of a vector on v vector =  [30.18242937 54.99909352 44.93828373]\n"
          ]
        }
      ]
    },
    {
      "cell_type": "code",
      "source": [],
      "metadata": {
        "id": "qnBMOQH8gA-e"
      },
      "execution_count": null,
      "outputs": []
    }
  ]
}