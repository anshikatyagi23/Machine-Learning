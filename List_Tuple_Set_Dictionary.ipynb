{
  "nbformat": 4,
  "nbformat_minor": 0,
  "metadata": {
    "colab": {
      "provenance": [],
      "authorship_tag": "ABX9TyO/bgjixoN7gw8k3oC3own2",
      "include_colab_link": true
    },
    "kernelspec": {
      "name": "python3",
      "display_name": "Python 3"
    },
    "language_info": {
      "name": "python"
    }
  },
  "cells": [
    {
      "cell_type": "markdown",
      "metadata": {
        "id": "view-in-github",
        "colab_type": "text"
      },
      "source": [
        "<a href=\"https://colab.research.google.com/github/anshikatyagi23/Machine-Learning/blob/main/List_Tuple_Set_Dictionary.ipynb\" target=\"_parent\"><img src=\"https://colab.research.google.com/assets/colab-badge.svg\" alt=\"Open In Colab\"/></a>"
      ]
    },
    {
      "cell_type": "markdown",
      "source": [
        "Types of Objects in Python\n",
        "\n",
        "\n",
        "1.  Immutable Objects\n",
        "2.  Mutable Objects\n",
        "\n"
      ],
      "metadata": {
        "id": "2QTQSGaMmdX2"
      }
    },
    {
      "cell_type": "markdown",
      "source": [
        "Immutable Objects\n",
        "\n",
        "1.  int\n",
        "2.  float\n",
        "3.  string\n",
        "4.  bool\n",
        "5.  tuple\n",
        "\n"
      ],
      "metadata": {
        "id": "EfAZHPE_m1HN"
      }
    },
    {
      "cell_type": "markdown",
      "source": [
        "Mutable Objects\n",
        "\n",
        "1. List  \n",
        "2.  set\n",
        "3. Dictionary\n",
        "\n"
      ],
      "metadata": {
        "id": "hBC5L1YynD0f"
      }
    },
    {
      "cell_type": "markdown",
      "source": [
        "List"
      ],
      "metadata": {
        "id": "wKh9e7r7nY8A"
      }
    },
    {
      "cell_type": "code",
      "source": [
        "#List should be included in the square brackets\n",
        "my_list = [1,2,3,4,5]\n",
        "print(my_list)\n",
        "type(my_list)\n"
      ],
      "metadata": {
        "colab": {
          "base_uri": "https://localhost:8080/"
        },
        "id": "U4GO1gugnDH5",
        "outputId": "30621b3a-fed9-4eec-a580-0fa9acf7922d"
      },
      "execution_count": null,
      "outputs": [
        {
          "output_type": "stream",
          "name": "stdout",
          "text": [
            "[1, 2, 3, 4, 5]\n"
          ]
        },
        {
          "output_type": "execute_result",
          "data": {
            "text/plain": [
              "list"
            ]
          },
          "metadata": {},
          "execution_count": 1
        }
      ]
    },
    {
      "cell_type": "code",
      "source": [
        "#lists can have multiple datatype\n",
        "my_list=[2,3,1.8,'English',True]\n",
        "print(my_list)"
      ],
      "metadata": {
        "colab": {
          "base_uri": "https://localhost:8080/"
        },
        "id": "-mqqKCIJnsUf",
        "outputId": "4fd5da4c-9af4-46c7-84ee-6eb3d39bb86f"
      },
      "execution_count": null,
      "outputs": [
        {
          "output_type": "stream",
          "name": "stdout",
          "text": [
            "[2, 3, 1.8, 'English', True]\n"
          ]
        }
      ]
    },
    {
      "cell_type": "markdown",
      "source": [
        "Lists are mutable"
      ],
      "metadata": {
        "id": "33_fSud9ofL9"
      }
    },
    {
      "cell_type": "code",
      "source": [
        "#add elements to a list\n",
        "my_list=[2,3,1.8,'English',True]\n",
        "my_list.append(6)\n",
        "print(my_list)"
      ],
      "metadata": {
        "colab": {
          "base_uri": "https://localhost:8080/"
        },
        "id": "I6vdPQx6oYFL",
        "outputId": "c2b6625d-4846-43b4-96ce-45ba38f15109"
      },
      "execution_count": null,
      "outputs": [
        {
          "output_type": "stream",
          "name": "stdout",
          "text": [
            "[2, 3, 1.8, 'English', True, 6]\n"
          ]
        }
      ]
    },
    {
      "cell_type": "code",
      "source": [
        "#print elements of a list using their index\n",
        "print(my_list[0])\n",
        "print(my_list[2])\n"
      ],
      "metadata": {
        "colab": {
          "base_uri": "https://localhost:8080/"
        },
        "id": "mA8YlIARovdu",
        "outputId": "41c4d411-418f-4866-e6d2-1666ffc3d25d"
      },
      "execution_count": null,
      "outputs": [
        {
          "output_type": "stream",
          "name": "stdout",
          "text": [
            "2\n",
            "1.8\n"
          ]
        }
      ]
    },
    {
      "cell_type": "code",
      "source": [
        "#lists allow duplicate values\n",
        "my_list=[2,3,1.8,'English',True,2]\n",
        "print(my_list)"
      ],
      "metadata": {
        "colab": {
          "base_uri": "https://localhost:8080/"
        },
        "id": "aOmM2O-xpBuL",
        "outputId": "1564d325-3e04-4adf-bdb5-9131db7b58a5"
      },
      "execution_count": null,
      "outputs": [
        {
          "output_type": "stream",
          "name": "stdout",
          "text": [
            "[2, 3, 1.8, 'English', True, 2]\n"
          ]
        }
      ]
    },
    {
      "cell_type": "code",
      "source": [
        "print(len(my_list))"
      ],
      "metadata": {
        "colab": {
          "base_uri": "https://localhost:8080/"
        },
        "id": "OcRYMofBpOXW",
        "outputId": "8750fe6c-5d8c-4323-c9be-dc24b5fe4938"
      },
      "execution_count": null,
      "outputs": [
        {
          "output_type": "stream",
          "name": "stdout",
          "text": [
            "6\n"
          ]
        }
      ]
    },
    {
      "cell_type": "code",
      "source": [
        "#initiang an empty list\n",
        "list_2=[]\n",
        "print(list_2)"
      ],
      "metadata": {
        "colab": {
          "base_uri": "https://localhost:8080/"
        },
        "id": "kpYeyrxQpW_S",
        "outputId": "585daa1f-0c21-4468-cd95-08408b269c8d"
      },
      "execution_count": null,
      "outputs": [
        {
          "output_type": "stream",
          "name": "stdout",
          "text": [
            "[]\n"
          ]
        }
      ]
    },
    {
      "cell_type": "code",
      "source": [
        "list_2=[2, 3, 1.8, 'English', True, 2]\n",
        "print(list_2)"
      ],
      "metadata": {
        "colab": {
          "base_uri": "https://localhost:8080/"
        },
        "id": "RJDB76viphI6",
        "outputId": "d7815c42-7af2-4404-e8d9-ce5c20946d3e"
      },
      "execution_count": null,
      "outputs": [
        {
          "output_type": "stream",
          "name": "stdout",
          "text": [
            "[2, 3, 1.8, 'English', True, 2]\n"
          ]
        }
      ]
    },
    {
      "cell_type": "code",
      "source": [
        "del list_2[0]\n",
        "print(list_2)"
      ],
      "metadata": {
        "colab": {
          "base_uri": "https://localhost:8080/"
        },
        "id": "AUFa_iIypyZ7",
        "outputId": "efd065e3-2198-4754-b632-5f31a6dac910"
      },
      "execution_count": null,
      "outputs": [
        {
          "output_type": "stream",
          "name": "stdout",
          "text": [
            "[3, 1.8, 'English', True, 2]\n"
          ]
        }
      ]
    },
    {
      "cell_type": "code",
      "source": [
        "#join two lists\n",
        "list_3=[1,2,3,4]\n",
        "list_4=[5,6,7,8]\n",
        "list_5=list_3+list_4\n",
        "print(list_5)"
      ],
      "metadata": {
        "colab": {
          "base_uri": "https://localhost:8080/"
        },
        "id": "D720J2vgqDrp",
        "outputId": "070a8700-b4a8-45e6-8acb-e644557b0886"
      },
      "execution_count": null,
      "outputs": [
        {
          "output_type": "stream",
          "name": "stdout",
          "text": [
            "[1, 2, 3, 4, 5, 6, 7, 8]\n"
          ]
        }
      ]
    },
    {
      "cell_type": "markdown",
      "source": [
        "Tuple"
      ],
      "metadata": {
        "id": "y8zLEtI5r_JF"
      }
    },
    {
      "cell_type": "code",
      "source": [
        "tuple_1=(2,3,4)\n",
        "print(tuple_1)"
      ],
      "metadata": {
        "colab": {
          "base_uri": "https://localhost:8080/"
        },
        "id": "7FBC0lMuqSyK",
        "outputId": "67e9c1f7-0994-467c-f6d3-e83f25a48a26"
      },
      "execution_count": null,
      "outputs": [
        {
          "output_type": "stream",
          "name": "stdout",
          "text": [
            "(2, 3, 4)\n"
          ]
        }
      ]
    },
    {
      "cell_type": "code",
      "source": [
        "#tuple allows multiple datatypes\n",
        "tuple_2=(2,3,4,'English',True)\n",
        "print(tuple_2)"
      ],
      "metadata": {
        "colab": {
          "base_uri": "https://localhost:8080/"
        },
        "id": "XUrpyG_qsMwP",
        "outputId": "dd069a6d-f90d-45b3-b4bd-36d699029779"
      },
      "execution_count": null,
      "outputs": [
        {
          "output_type": "stream",
          "name": "stdout",
          "text": [
            "(2, 3, 4, 'English', True)\n"
          ]
        }
      ]
    },
    {
      "cell_type": "code",
      "source": [
        "#converting a list to a tuple\n",
        "\n",
        "my_list=[2,3,4]\n",
        "print(my_list)\n",
        "my_tuple=tuple(my_list)\n",
        "print(my_tuple)"
      ],
      "metadata": {
        "colab": {
          "base_uri": "https://localhost:8080/"
        },
        "id": "FLoX4g9zsb6-",
        "outputId": "8bcb7f92-9b31-4250-d971-e49f3ea4944c"
      },
      "execution_count": null,
      "outputs": [
        {
          "output_type": "stream",
          "name": "stdout",
          "text": [
            "[2, 3, 4]\n",
            "(2, 3, 4)\n"
          ]
        }
      ]
    },
    {
      "cell_type": "code",
      "source": [
        "print(my_tuple[0])\n",
        "print(my_tuple[1])\n"
      ],
      "metadata": {
        "colab": {
          "base_uri": "https://localhost:8080/"
        },
        "id": "eXzLF3cxstQo",
        "outputId": "9af9cbca-98ed-4110-e85f-92997fa2069d"
      },
      "execution_count": null,
      "outputs": [
        {
          "output_type": "stream",
          "name": "stdout",
          "text": [
            "2\n",
            "3\n"
          ]
        }
      ]
    },
    {
      "cell_type": "markdown",
      "source": [
        "Tuple are immutable\n"
      ],
      "metadata": {
        "id": "GJkxSDzatJck"
      }
    },
    {
      "cell_type": "markdown",
      "source": [
        "length"
      ],
      "metadata": {
        "id": "SyhnIoRXtOSW"
      }
    },
    {
      "cell_type": "code",
      "source": [
        "print(len(my_tuple))"
      ],
      "metadata": {
        "colab": {
          "base_uri": "https://localhost:8080/"
        },
        "id": "NgzuWhBJtF3h",
        "outputId": "c69fb5df-e3c3-4e0c-a464-0463d830aec9"
      },
      "execution_count": null,
      "outputs": [
        {
          "output_type": "stream",
          "name": "stdout",
          "text": [
            "3\n"
          ]
        }
      ]
    },
    {
      "cell_type": "markdown",
      "source": [
        "Set"
      ],
      "metadata": {
        "id": "SBEnnxQ_tU8m"
      }
    },
    {
      "cell_type": "code",
      "source": [
        "#set----> Curly brackets\n",
        "my_set={2,3,4}\n",
        "print(my_set)"
      ],
      "metadata": {
        "colab": {
          "base_uri": "https://localhost:8080/"
        },
        "id": "SkhvF-uYtTUy",
        "outputId": "5ac81d58-939a-44e2-aabb-7d45ad318c0f"
      },
      "execution_count": null,
      "outputs": [
        {
          "output_type": "stream",
          "name": "stdout",
          "text": [
            "{2, 3, 4}\n"
          ]
        }
      ]
    },
    {
      "cell_type": "code",
      "source": [
        "#set doesnt support indexing\n",
        "my_set={2,3,4}\n",
        "print(my_set[0])"
      ],
      "metadata": {
        "colab": {
          "base_uri": "https://localhost:8080/",
          "height": 176
        },
        "id": "SbtbFFLYteHr",
        "outputId": "209f77c4-da78-40a2-a48d-c2763a615bad"
      },
      "execution_count": null,
      "outputs": [
        {
          "output_type": "error",
          "ename": "TypeError",
          "evalue": "'set' object is not subscriptable",
          "traceback": [
            "\u001b[0;31m---------------------------------------------------------------------------\u001b[0m",
            "\u001b[0;31mTypeError\u001b[0m                                 Traceback (most recent call last)",
            "\u001b[0;32m<ipython-input-19-80d237b3e156>\u001b[0m in \u001b[0;36m<cell line: 0>\u001b[0;34m()\u001b[0m\n\u001b[1;32m      1\u001b[0m \u001b[0;31m#set doesnt support indexing\u001b[0m\u001b[0;34m\u001b[0m\u001b[0;34m\u001b[0m\u001b[0m\n\u001b[1;32m      2\u001b[0m \u001b[0mmy_set\u001b[0m\u001b[0;34m=\u001b[0m\u001b[0;34m{\u001b[0m\u001b[0;36m2\u001b[0m\u001b[0;34m,\u001b[0m\u001b[0;36m3\u001b[0m\u001b[0;34m,\u001b[0m\u001b[0;36m4\u001b[0m\u001b[0;34m}\u001b[0m\u001b[0;34m\u001b[0m\u001b[0;34m\u001b[0m\u001b[0m\n\u001b[0;32m----> 3\u001b[0;31m \u001b[0mprint\u001b[0m\u001b[0;34m(\u001b[0m\u001b[0mmy_set\u001b[0m\u001b[0;34m[\u001b[0m\u001b[0;36m0\u001b[0m\u001b[0;34m]\u001b[0m\u001b[0;34m)\u001b[0m\u001b[0;34m\u001b[0m\u001b[0;34m\u001b[0m\u001b[0m\n\u001b[0m",
            "\u001b[0;31mTypeError\u001b[0m: 'set' object is not subscriptable"
          ]
        }
      ]
    },
    {
      "cell_type": "code",
      "source": [
        "#COVERT a lisit to a set\n",
        "list_1=[5,6,7,8,9]\n",
        "print(list_1)\n",
        "set_3=set(list_1)\n",
        "print(set_3)"
      ],
      "metadata": {
        "colab": {
          "base_uri": "https://localhost:8080/"
        },
        "id": "MH11VsCxtoSn",
        "outputId": "619e83d4-7d01-4432-b867-31f55e0fdbee"
      },
      "execution_count": null,
      "outputs": [
        {
          "output_type": "stream",
          "name": "stdout",
          "text": [
            "[5, 6, 7, 8, 9]\n",
            "{5, 6, 7, 8, 9}\n"
          ]
        }
      ]
    },
    {
      "cell_type": "code",
      "source": [
        "#et doesn't allow duplicate values\n"
      ],
      "metadata": {
        "id": "Iae6T_eht941"
      },
      "execution_count": null,
      "outputs": []
    },
    {
      "cell_type": "markdown",
      "source": [
        "Dictionary"
      ],
      "metadata": {
        "id": "i7Zae7CluM8V"
      }
    },
    {
      "cell_type": "code",
      "source": [
        "#key-value pair\n"
      ],
      "metadata": {
        "id": "BZWTeOd4uMHg"
      },
      "execution_count": null,
      "outputs": []
    },
    {
      "cell_type": "code",
      "source": [
        "my_dictionary={'Eng':80,'Maths':90,'Sci':95}\n",
        "print(my_dictionary)"
      ],
      "metadata": {
        "colab": {
          "base_uri": "https://localhost:8080/"
        },
        "id": "FI1rx_0JuSzv",
        "outputId": "6d40492f-a701-45fc-e89b-d0847bac38bd"
      },
      "execution_count": null,
      "outputs": [
        {
          "output_type": "stream",
          "name": "stdout",
          "text": [
            "{'Eng': 80, 'Maths': 90, 'Sci': 95}\n"
          ]
        }
      ]
    },
    {
      "cell_type": "code",
      "source": [
        "print(my_dictionary['Eng'])\n",
        "print(my_dictionary['Maths'])\n",
        "print(my_dictionary['Sci'])"
      ],
      "metadata": {
        "colab": {
          "base_uri": "https://localhost:8080/"
        },
        "id": "iPLCF-zouYrL",
        "outputId": "b996a849-0ffa-43ac-c137-282386172868"
      },
      "execution_count": null,
      "outputs": [
        {
          "output_type": "stream",
          "name": "stdout",
          "text": [
            "80\n",
            "90\n",
            "95\n"
          ]
        }
      ]
    },
    {
      "cell_type": "code",
      "source": [
        "#dictionary doesnt allow duplicate values\n",
        "my_dictionary={'Eng':80,'Maths':90,'Sci':95,'Eng':95}\n",
        "print(my_dictionary)"
      ],
      "metadata": {
        "colab": {
          "base_uri": "https://localhost:8080/"
        },
        "id": "JQdzgPt_uj97",
        "outputId": "c45d9b56-074c-40fa-c55b-354645af7bfb"
      },
      "execution_count": null,
      "outputs": [
        {
          "output_type": "stream",
          "name": "stdout",
          "text": [
            "{'Eng': 95, 'Maths': 90, 'Sci': 95}\n"
          ]
        }
      ]
    },
    {
      "cell_type": "code",
      "source": [],
      "metadata": {
        "id": "44NJZiYIusUT"
      },
      "execution_count": null,
      "outputs": []
    }
  ]
}