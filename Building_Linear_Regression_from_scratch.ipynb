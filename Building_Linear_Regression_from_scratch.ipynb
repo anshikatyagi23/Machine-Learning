{
  "nbformat": 4,
  "nbformat_minor": 0,
  "metadata": {
    "colab": {
      "provenance": [],
      "authorship_tag": "ABX9TyNScupIfXGDnZtg/vxMUaWA",
      "include_colab_link": true
    },
    "kernelspec": {
      "name": "python3",
      "display_name": "Python 3"
    },
    "language_info": {
      "name": "python"
    }
  },
  "cells": [
    {
      "cell_type": "markdown",
      "metadata": {
        "id": "view-in-github",
        "colab_type": "text"
      },
      "source": [
        "<a href=\"https://colab.research.google.com/github/anshikatyagi23/Machine-Learning/blob/main/Building_Linear_Regression_from_scratch.ipynb\" target=\"_parent\"><img src=\"https://colab.research.google.com/assets/colab-badge.svg\" alt=\"Open In Colab\"/></a>"
      ]
    },
    {
      "cell_type": "markdown",
      "source": [
        "Linear Regression:\n",
        "\n",
        "Y = wX + b\n",
        "\n",
        "Y --> Dependent Variable\n",
        "\n",
        "X --> Independent Variable\n",
        "\n",
        "w --> weight\n",
        "\n",
        "b --> bias\n",
        "\n",
        "Gradient Descent:\n",
        "\n",
        "Gradient Descent is an optimization algorithm used for minimizing the loss function in various machine learning algorithms. It is used for updating the parameters of the learning model.\n",
        "\n",
        "w = w - α*dw\n",
        "\n",
        "b = b - α*db\n",
        "\n",
        "Learning Rate:\n",
        "\n",
        "Learning rate is a tuning parameter in an optimization algorithm that determines the step size at each iteration while moving toward a minimum of a loss function.\n",
        "\n"
      ],
      "metadata": {
        "id": "SABGS9SPjhpP"
      }
    },
    {
      "cell_type": "code",
      "source": [
        "#importing numpy library\n",
        "import numpy as np"
      ],
      "metadata": {
        "id": "bHnqj8z1jnUb"
      },
      "execution_count": 1,
      "outputs": []
    },
    {
      "cell_type": "markdown",
      "source": [
        "Linear Regression"
      ],
      "metadata": {
        "id": "6J3lLqj2juhw"
      }
    },
    {
      "cell_type": "code",
      "source": [
        "class Linear_Regression():\n",
        "  #initiating the parameters(learning rate& no. of iterations)\n",
        "  def __init__(self, learning_rate, no_of_iterations):\n",
        "    self.learning_rate = learning_rate\n",
        "    self.no_of_iterations = no_of_iterations\n",
        "\n",
        "    def fit(self, X, Y):\n",
        "\n",
        "      #number of training examples & number of features\n",
        "      self.m, self.n = X.shape\n",
        "\n",
        "      #initiating weight & bias value\n",
        "      self.w = np.zeros(self.n)\n",
        "      self.b = 0\n",
        "      self.X = X\n",
        "      self.Y = Y\n",
        "\n",
        "      #implementing Gradient descent\n",
        "      for i in range(self.no_of_iterations):\n",
        "         self.update_weights()\n",
        "\n",
        "         def update_weights(self):\n",
        "            Y_prediction = self.predict(self.X)\n",
        "\n",
        "        #calculate gradients\n",
        "      dw = - (2 * (self.X.T).dot(self.Y - Y_prediction)) / self.m\n",
        "      db = - 2 * np.sum(self.Y - Y_prediction)/self.m\n",
        "       # upadating the weights\n",
        "\n",
        "    self.w = self.w - self.learning_rate*dw\n",
        "    self.b = selb.b - self.learning_rate*db\n",
        "\n",
        "\n",
        "  def predict(self, X):\n",
        "\n",
        "    return X.dot(self.w) + self.b\n"
      ],
      "metadata": {
        "id": "vcQnsQNNjtqv"
      },
      "execution_count": 5,
      "outputs": []
    }
  ]
}