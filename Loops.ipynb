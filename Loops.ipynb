{
  "nbformat": 4,
  "nbformat_minor": 0,
  "metadata": {
    "colab": {
      "provenance": [],
      "authorship_tag": "ABX9TyMMDbrbOqcqOSxp4Q63I6pl",
      "include_colab_link": true
    },
    "kernelspec": {
      "name": "python3",
      "display_name": "Python 3"
    },
    "language_info": {
      "name": "python"
    }
  },
  "cells": [
    {
      "cell_type": "markdown",
      "metadata": {
        "id": "view-in-github",
        "colab_type": "text"
      },
      "source": [
        "<a href=\"https://colab.research.google.com/github/anshikatyagi23/Machine-Learning/blob/main/Loops.ipynb\" target=\"_parent\"><img src=\"https://colab.research.google.com/assets/colab-badge.svg\" alt=\"Open In Colab\"/></a>"
      ]
    },
    {
      "cell_type": "markdown",
      "source": [
        "For Loop"
      ],
      "metadata": {
        "id": "yuc3Dp8Z0Hzc"
      }
    },
    {
      "cell_type": "code",
      "execution_count": null,
      "metadata": {
        "colab": {
          "base_uri": "https://localhost:8080/"
        },
        "id": "4O5GvLGy0EVh",
        "outputId": "bf9668da-7410-458e-d9e0-514fed232df7"
      },
      "outputs": [
        {
          "name": "stdout",
          "output_type": "stream",
          "text": [
            "ENTEr the price of laptop120000\n",
            "ENTEr the price of laptop230000\n",
            "ENTEr the price of laptop340000\n",
            "ENTEr the price of laptop450000\n"
          ]
        }
      ],
      "source": [
        "laptop1 = int(input('ENTEr the price of laptop1'))\n",
        "laptop2 = int(input('ENTEr the price of laptop2'))\n",
        "laptop3 = int(input('ENTEr the price of laptop3'))\n",
        "laptop4 = int(input('ENTEr the price of laptop4'))"
      ]
    },
    {
      "cell_type": "code",
      "source": [
        "for i in range(5):\n",
        "  laptop_price=int(input('Enter the price of laptop'))"
      ],
      "metadata": {
        "colab": {
          "base_uri": "https://localhost:8080/"
        },
        "id": "0I5dWFhJ0Tym",
        "outputId": "26608539-eaef-4755-e937-6ea4dfd7b666"
      },
      "execution_count": null,
      "outputs": [
        {
          "name": "stdout",
          "output_type": "stream",
          "text": [
            "Enter the price of laptop2454\n",
            "Enter the price of laptop3456\n",
            "Enter the price of laptop4567\n",
            "Enter the price of laptop3456\n",
            "Enter the price of laptop567\n"
          ]
        }
      ]
    },
    {
      "cell_type": "code",
      "source": [
        "number = [50,60,70,80]\n",
        "print(number[0]\n",
        "    )\n",
        "print(number[1]\n",
        "    )\n",
        "print(number[2]\n",
        "    )\n",
        "print(number[3]\n",
        "    )\n"
      ],
      "metadata": {
        "colab": {
          "base_uri": "https://localhost:8080/"
        },
        "id": "05fRDine0z_f",
        "outputId": "b9aee1f3-5e44-4758-86fb-0b7e1986ad30"
      },
      "execution_count": null,
      "outputs": [
        {
          "output_type": "stream",
          "name": "stdout",
          "text": [
            "50\n",
            "60\n",
            "70\n",
            "80\n"
          ]
        }
      ]
    },
    {
      "cell_type": "code",
      "source": [
        "number = [50,60,70,80]\n",
        "for i in number:\n",
        "  print(i)"
      ],
      "metadata": {
        "colab": {
          "base_uri": "https://localhost:8080/"
        },
        "id": "AHOnvwEL1dZK",
        "outputId": "72ec8727-f280-4a0a-a07e-4b50fbb51275"
      },
      "execution_count": null,
      "outputs": [
        {
          "output_type": "stream",
          "name": "stdout",
          "text": [
            "50\n",
            "60\n",
            "70\n",
            "80\n"
          ]
        }
      ]
    },
    {
      "cell_type": "markdown",
      "source": [
        "While loop"
      ],
      "metadata": {
        "id": "DoMy2l2L1ru1"
      }
    },
    {
      "cell_type": "code",
      "source": [
        "i = 0\n",
        "while i<10:\n",
        "  print(i)\n",
        "  i=i+1"
      ],
      "metadata": {
        "colab": {
          "base_uri": "https://localhost:8080/"
        },
        "id": "NngfVkRh1kv4",
        "outputId": "4e3244bc-e1ca-4bd3-c353-53e0430b48db"
      },
      "execution_count": null,
      "outputs": [
        {
          "output_type": "stream",
          "name": "stdout",
          "text": [
            "0\n",
            "1\n",
            "2\n",
            "3\n",
            "4\n",
            "5\n",
            "6\n",
            "7\n",
            "8\n",
            "9\n"
          ]
        }
      ]
    },
    {
      "cell_type": "code",
      "source": [
        "i =5\n",
        "while i<3:\n",
        "  print(i)\n",
        "  i=i+1"
      ],
      "metadata": {
        "id": "wvmhDSfk2J_z"
      },
      "execution_count": null,
      "outputs": []
    },
    {
      "cell_type": "code",
      "source": [],
      "metadata": {
        "id": "y1S8wPDy2OhU"
      },
      "execution_count": null,
      "outputs": []
    }
  ]
}