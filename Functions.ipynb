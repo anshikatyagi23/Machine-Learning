{
  "nbformat": 4,
  "nbformat_minor": 0,
  "metadata": {
    "colab": {
      "provenance": [],
      "authorship_tag": "ABX9TyOP9D93rZOSRgC20DOvTKBt",
      "include_colab_link": true
    },
    "kernelspec": {
      "name": "python3",
      "display_name": "Python 3"
    },
    "language_info": {
      "name": "python"
    }
  },
  "cells": [
    {
      "cell_type": "markdown",
      "metadata": {
        "id": "view-in-github",
        "colab_type": "text"
      },
      "source": [
        "<a href=\"https://colab.research.google.com/github/anshikatyagi23/Machine-Learning/blob/main/Functions.ipynb\" target=\"_parent\"><img src=\"https://colab.research.google.com/assets/colab-badge.svg\" alt=\"Open In Colab\"/></a>"
      ]
    },
    {
      "cell_type": "markdown",
      "source": [
        "Functions:\n",
        "Function is a block of code reused in program"
      ],
      "metadata": {
        "id": "GgLm5A7y2cFH"
      }
    },
    {
      "cell_type": "markdown",
      "source": [
        "Factorial Number"
      ],
      "metadata": {
        "id": "QycMWPW52sAa"
      }
    },
    {
      "cell_type": "code",
      "source": [
        "number=int(input('enter a number to find its factorial:'))\n",
        "\n",
        "\n",
        "factorial=1\n",
        "\n",
        "if number == 0:\n",
        "  print('THe factorial of 0 is 1')\n",
        "\n",
        "else:\n",
        "  for i in range(1, number+1):\n",
        "    factorial = factorial * i\n",
        "    print('The factorial of', number, 'is', factorial)\n",
        "\n"
      ],
      "metadata": {
        "colab": {
          "base_uri": "https://localhost:8080/"
        },
        "id": "ANSnq3aS2l6p",
        "outputId": "84953124-5186-49d6-8574-7f203a750104"
      },
      "execution_count": null,
      "outputs": [
        {
          "output_type": "stream",
          "name": "stdout",
          "text": [
            "enter a number to find its factorial:5\n",
            "The factorial of 5 is 1\n",
            "The factorial of 5 is 2\n",
            "The factorial of 5 is 6\n",
            "The factorial of 5 is 24\n",
            "The factorial of 5 is 120\n"
          ]
        }
      ]
    },
    {
      "cell_type": "markdown",
      "source": [
        "Factorial Function"
      ],
      "metadata": {
        "id": "12Hv1iKk6ILv"
      }
    },
    {
      "cell_type": "code",
      "source": [
        "def factorial_value(num):\n",
        "\n",
        "  factorial=1\n",
        "\n",
        "  if num == 0:\n",
        "      return factorial\n",
        "\n",
        "  else:\n",
        "    for i in range(1, num+1):\n",
        "      factorial = factorial * i\n",
        "    return factorial # The return statement was indented too far. Moved back to align with the for loop."
      ],
      "metadata": {
        "id": "Ex_5dEv58mTk"
      },
      "execution_count": null,
      "outputs": []
    },
    {
      "cell_type": "code",
      "source": [
        "print(factorial_value(5))"
      ],
      "metadata": {
        "colab": {
          "base_uri": "https://localhost:8080/"
        },
        "id": "Y_Xufd7H9FoD",
        "outputId": "18248ebe-45aa-4da9-99f0-a5f113e9c51e"
      },
      "execution_count": null,
      "outputs": [
        {
          "output_type": "stream",
          "name": "stdout",
          "text": [
            "120\n"
          ]
        }
      ]
    },
    {
      "cell_type": "code",
      "source": [],
      "metadata": {
        "id": "80Fh83739IBO"
      },
      "execution_count": null,
      "outputs": []
    }
  ]
}